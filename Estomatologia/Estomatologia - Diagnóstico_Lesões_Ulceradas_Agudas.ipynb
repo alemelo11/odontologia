{
 "cells": [
  {
   "cell_type": "markdown",
   "metadata": {},
   "source": [
    "[![Open in Colab](https://colab.research.google.com/assets/colab-badge.svg)](https://colab.research.google.com/drive/1fPEo4IUEJ1BQ2H4R0L9cJ7pIGOjGs9Q_)"
   ]
  },
  {
   "cell_type": "markdown",
   "metadata": {},
   "source": [
    "⚕️Estomatologia - Lesões Ulceradas Agudas⚕️"
   ]
  },
  {
   "cell_type": "code",
   "execution_count": 12,
   "metadata": {
    "colab": {
     "base_uri": "https://localhost:8080/"
    },
    "executionInfo": {
     "elapsed": 10497,
     "status": "ok",
     "timestamp": 1734895656311,
     "user": {
      "displayName": "Alexandre Melo",
      "userId": "11300957330667136011"
     },
     "user_tz": 240
    },
    "id": "muh8-Zv4yIYc",
    "outputId": "9574ecbc-bc26-4115-8507-d53a4c007540"
   },
   "outputs": [
    {
     "name": "stdout",
     "output_type": "stream",
     "text": [
      "         Texto centralizado com margens.          \n",
      "🦷 Diagnóstico de Lesões Ulceradas Agudas na Mucosa Bucal 🦷\n",
      "\n",
      "🤕 Houve trauma ou outro fator irritativo? (sim/nao): nao\n",
      "🎗️ O paciente está em tratamento oncológico (quimioterapia ou radioterapia)? (sim/nao): nao\n",
      "🤔 Há outras lesões semelhantes na pele ou em outras mucosas? (sim/nao): sim\n",
      "👶 O paciente é uma criança? (sim/nao): nao\n",
      "\n",
      "➡️ Diagnóstico provável: ERITEMA MULTIFORME\n",
      "     - 🤔 **Definição e Etiologia:** Doença mucocutânea aguda de origem incerta, frequentemente desencadeada por infecções (ex.: herpes simples) ou medicamentos (ex.: analgésicos, antibióticos). Reação imunológica desencadeada por esses fatores.\n",
      "     - 🔴 **Aspecto Clínico:** Sintomas prodrômicos (febre, mal-estar, cefaleia, tosse, dor de garganta). Múltiplas úlceras rasas com bordas irregulares e dolorosas na boca. Distribuição difusa, exceto gengiva e palato duro. Crostas hemorrágicas em vermelhão do lábio são comuns. Lesões cutâneas eritematosas, em forma de “alvo”, principalmente em extremidades. Pode evoluir para bolha com centro necrótico. Forma mais grave (Síndrome de Stevens-Johnson) com acometimento ocular e genital.\n",
      "     - 🔬 **Como Estabelecer o Diagnóstico:** Clínico, baseado no aspecto das lesões bucais e cutâneas, sintomas associados e histórico de infecção ou uso de medicamentos. Biópsia pode ajudar a excluir outras doenças. Exames laboratoriais podem identificar a causa subjacente.\n",
      "     - 💊 **Conduta:** Corticosteroides sistêmicos. Se houver suspeita de medicamento como causa, interromper o uso imediatamente. Anestésicos tópicos para alívio da dor. Avaliação oftalmológica em caso de acometimento ocular. Internação em casos graves.\n",
      "\n"
     ]
    }
   ],
   "source": [
    "import textwrap\n",
    "import shutil\n",
    "\n",
    "margem = 2\n",
    "largura_terminal = 50\n",
    "largura_util = largura_terminal - 2 * margem\n",
    "\n",
    "texto = \"Texto centralizado com margens.\"\n",
    "linhas = textwrap.wrap(texto, width=largura_util)\n",
    "for linha in linhas:\n",
    "    print(\" \" * margem + linha.center(largura_util) + \" \" * margem)\n",
    "\n",
    "def diagnostico_lesoes_ulceradas_agudas():\n",
    "    \"\"\"\n",
    "    Função para diagnóstico de lesões ulceradas agudas na mucosa bucal\n",
    "\n",
    "    \"\"\"\n",
    "\n",
    "    print(\"🦷 Diagnóstico de Lesões Ulceradas Agudas na Mucosa Bucal 🦷\\n\")\n",
    "\n",
    "    # Passo 1: Histórico de trauma ou fator irritativo\n",
    "    trauma = input(\"🤕 Houve trauma ou outro fator irritativo? (sim/nao): \").lower()\n",
    "    if trauma == \"sim\":\n",
    "        tipo_trauma = input(\"🤔 O trauma é de origem mecânica, física ou química? (mec, fis, qui): \").lower()\n",
    "\n",
    "        if tipo_trauma == \"mec\":\n",
    "            print(\"\\n➡️  Diagnóstico provável: ÚLCERA TRAUMÁTICA (Origem Mecânica)\")\n",
    "            print(\"     - 💥 **Definição e Etiologia:** Lesão causada por trauma mecânico, como mordedura, uso de próteses desadaptadas, arestas cortantes de dentes, cavidades de cárie ou trauma durante a escovação.\")\n",
    "            print(\"     - 🔴 **Aspecto Clínico:** Geralmente solitária, mas pode variar. Contorno irregular, localização variável de acordo com o agente causador. Pode apresentar halo eritematoso e/ou pseudomembrana (camada fina e esbranquiçada).\")\n",
    "            print(\"     - 🔬 **Como Estabelecer o Diagnóstico:** História de trauma e observação da lesão. A relação com o agente causador é crucial. Desaparecimento gradual após remoção do agente agressor (em até 10 dias) confirma o diagnóstico. Biópsia pode ser necessária se não houver regressão ou se houver dúvida diagnóstica.\")\n",
    "            print(\"     - 🩹 **Conduta:** Remover o agente causador (polimento de bordas cortantes, ajuste de prótese, tratamento de cárie). Se o trauma for isolado e não intencional (ex.: mordida acidental), o tratamento visa o alívio da dor e a aceleração da cicatrização. Analgésicos tópicos (ex.: Omcilon-A em orabase) ou anti-inflamatórios podem ser utilizados. Bochechos com solução de clorexidina 0,12% podem auxiliar na prevenção de infecção secundária. Úlceras que não regridem em 10 dias devem ser reavaliadas e, se necessário, biopsiadas.\\n\")\n",
    "\n",
    "        elif tipo_trauma == \"fis\":\n",
    "            print(\"\\n➡️  Diagnóstico provável: ÚLCERA TRAUMÁTICA (Origem Física)\")\n",
    "            print(\"     - 🔥 **Definição e Etiologia:** Lesão causada por trauma físico, como queimaduras térmicas (alimentos ou bebidas quentes) ou por radiação ionizante (radioterapia).\")\n",
    "            print(\"     - 🔴 **Aspecto Clínico:** Semelhante à úlcera traumática de origem mecânica. Na radioterapia, pode fazer parte do quadro de mucosite (ver abaixo).\")\n",
    "            print(\"     - 🔬 **Como Estabelecer o Diagnóstico:** História de exposição ao agente físico (calor excessivo, radiação). Correlação com a área afetada e o agente causador.\")\n",
    "            print(\"     - 🩹 **Conduta:**  Em casos de queimaduras leves, tratamento sintomático com analgésicos tópicos e bochechos com soluções antissépticas. Em casos de radioterapia, seguir protocolo para mucosite (ver abaixo). \\n\")\n",
    "\n",
    "        elif tipo_trauma == \"qui\":\n",
    "            print(\"\\n➡️  Diagnóstico provável: ÚLCERA TRAUMÁTICA (Origem Química)\")\n",
    "            print(\"     - 🧪 **Definição e Etiologia:** Lesão causada por trauma químico, como a aplicação tópica de substâncias cáusticas (ex.: aspirina, agentes clareadores, ácidos).\")\n",
    "            print(\"     - 🔴 **Aspecto Clínico:** Área de necrose superficial, esbranquiçada, que pode se desprender, deixando uma superfície ulcerada. Dor variável.\")\n",
    "            print(\"     - 🔬 **Como Estabelecer o Diagnóstico:** História de aplicação de substância química na região. Correlação com a área afetada e o agente causador.\")\n",
    "            print(\"     - 🩹 **Conduta:** Interrupção imediata do uso da substância. Tratamento sintomático com analgésicos tópicos e bochechos com soluções antissépticas. Orientação rigorosa ao paciente para evitar a automedicação.\\n\")\n",
    "        return\n",
    "\n",
    "    else:\n",
    "      # Passo 2: Investigar Mucosite\n",
    "      paciente_oncologico = input(\"🎗️ O paciente está em tratamento oncológico (quimioterapia ou radioterapia)? (sim/nao): \").lower()\n",
    "      if paciente_oncologico == 'sim':\n",
    "        print(\"\\n➡️ Diagnóstico provável: MUCOSITE\")\n",
    "        print(\"     - 🩺 **Definição e Etiologia:** Efeito adverso comum da quimioterapia e da radioterapia em região de cabeça e pescoço. A mucosite é uma inflamação da mucosa que pode variar de eritema a ulcerações severas.\")\n",
    "        print(\"     - 🔴 **Aspecto Clínico:** Inicia-se com áreas eritematosas, evoluindo para placas brancas descamativas e, posteriormente, ulcerações dolorosas. Na quimioterapia, pode afetar todo o trato gastrointestinal. Na radioterapia, as lesões se restringem à área irradiada.\")\n",
    "        print(\"     - 🔬 **Como Estabelecer o Diagnóstico:** O diagnóstico é clínico, baseado no histórico de tratamento oncológico e na progressão característica das lesões. A severidade é graduada de acordo com a extensão e o impacto na alimentação.\")\n",
    "        print(\"     - 🩹 **Conduta:** Protocolos de prevenção e tratamento incluem rigorosa higiene bucal, uso de analgésicos tópicos e sistêmicos, laserterapia de baixa intensidade, e, em casos severos, nutrição parenteral. O acompanhamento multidisciplinar é fundamental.\\n\")\n",
    "        return\n",
    "\n",
    "      # Passo 3: Outras lesões semelhantes no corpo\n",
    "      lesoes_corpo = input(\"🤔 Há outras lesões semelhantes na pele ou em outras mucosas? (sim/nao): \").lower()\n",
    "      if lesoes_corpo == \"sim\":\n",
    "          idade = input(\"👶 O paciente é uma criança? (sim/nao): \").lower()\n",
    "          if idade == \"sim\":\n",
    "              localizacao = input(\"🦶 As lesões estão nas mãos, pés e boca? (sim/nao): \").lower()\n",
    "              if localizacao == 'sim':\n",
    "                  print(\"\\n➡️ Diagnóstico provável: DOENÇA MÃO-PÉ-BOCA\")\n",
    "                  print(\"     - 🦠 **Definição e Etiologia:** Infecção viral causada por um enterovírus, mais comum em crianças. Altamente contagiosa.\")\n",
    "                  print(\"     - 🔴 **Aspecto Clínico:** Sintomas sistêmicos (dor de garganta, disfagia, febre) precedem as lesões. Vesículas que se rompem rapidamente, formando pequenas úlceras (2-7 mm) dolorosas na mucosa bucal (jugal, labial e língua). Lesões vesiculares também ocorrem nas bordas das palmas das mãos, plantas dos pés e dedos.\")\n",
    "                  print(\"     - 🔬 **Como Estabelecer o Diagnóstico:** Clínico, baseado na localização característica das lesões (mãos, pés e boca), idade do paciente e sintomas associados.\")\n",
    "                  print(\"     - 💊 **Conduta:** Doença autolimitante. Tratamento de suporte com analgésicos, antitérmicos e hidratação. Orientar sobre a contagiosidade e medidas de higiene.\\n\")\n",
    "\n",
    "              else:\n",
    "                  print(\"\\n➡️ Diagnóstico provável: VARICELA\")\n",
    "                  print(\"     - 🦠 **Definição e Etiologia:** Infecção viral causada pelo vírus varicela-zóster, comum na infância. Altamente contagiosa.\")\n",
    "                  print(\"     - 🔴 **Aspecto Clínico:** Período prodrômico com febre, mal-estar, náusea e vômito. Lesões cutâneas: eritema, vesícula, pústula e crosta. As lesões bucais são comuns e podem preceder as lesões cutâneas. Vesículas branco-opacas que evoluem para úlceras (até 3 mm), indolores, principalmente em palato e mucosa jugal.\")\n",
    "                  print(\"     - 🔬 **Como Estabelecer o Diagnóstico:** Clínico, baseado na progressão das lesões cutâneas, idade do paciente e histórico de contato com indivíduo com varicela. Em caso de dúvidas, exames laboratoriais podem detectar anticorpos contra o vírus.\")\n",
    "                  print(\"     - 🩺 **Conduta:** Tratamento feito por médico pediatra, geralmente com antivirais e medidas de suporte. Orientar sobre a contagiosidade. Encaminhar ao pediatra.\\n\")\n",
    "\n",
    "          else:\n",
    "              print(\"\\n➡️ Diagnóstico provável: ERITEMA MULTIFORME\")\n",
    "              print(\"     - 🤔 **Definição e Etiologia:** Doença mucocutânea aguda de origem incerta, frequentemente desencadeada por infecções (ex.: herpes simples) ou medicamentos (ex.: analgésicos, antibióticos). Reação imunológica desencadeada por esses fatores.\")\n",
    "              print(\"     - 🔴 **Aspecto Clínico:** Sintomas prodrômicos (febre, mal-estar, cefaleia, tosse, dor de garganta). Múltiplas úlceras rasas com bordas irregulares e dolorosas na boca. Distribuição difusa, exceto gengiva e palato duro. Crostas hemorrágicas em vermelhão do lábio são comuns. Lesões cutâneas eritematosas, em forma de “alvo”, principalmente em extremidades. Pode evoluir para bolha com centro necrótico. Forma mais grave (Síndrome de Stevens-Johnson) com acometimento ocular e genital.\")\n",
    "              print(\"     - 🔬 **Como Estabelecer o Diagnóstico:** Clínico, baseado no aspecto das lesões bucais e cutâneas, sintomas associados e histórico de infecção ou uso de medicamentos. Biópsia pode ajudar a excluir outras doenças. Exames laboratoriais podem identificar a causa subjacente.\")\n",
    "              print(\"     - 💊 **Conduta:** Corticosteroides sistêmicos. Se houver suspeita de medicamento como causa, interromper o uso imediatamente. Anestésicos tópicos para alívio da dor. Avaliação oftalmológica em caso de acometimento ocular. Internação em casos graves.\\n\")\n",
    "\n",
    "      else:\n",
    "          # Passo 3: Múltiplas lesões na boca\n",
    "          multiplas_lesoes = input(\"👄 Há múltiplas lesões na boca? (sim/nao): \").lower()\n",
    "          if multiplas_lesoes == \"sim\":\n",
    "              localizacao = input(\"👅 As lesões estão localizadas principalmente no palato mole e pilares amigdalianos? (sim/nao): \").lower()\n",
    "              if localizacao == \"sim\":\n",
    "                  print(\"\\n➡️ Diagnóstico provável: HERPANGINA\")\n",
    "                  print(\"     - 🦠 **Definição e Etiologia:** Infecção viral causada por um enterovírus, geralmente em crianças. Relacionada à doença mão-pé-boca.\")\n",
    "                  print(\"     - 🔴 **Aspecto Clínico:** Início agudo com dor de garganta, disfagia e febre. 2-6 lesões na região posterior da boca (palato mole e pilares amigdalianos). Inicia-se com áreas eritematosas que evoluem para vesículas e, depois, úlceras dolorosas.\")\n",
    "                  print(\"     - 🔬 **Como Estabelecer o Diagnóstico:** Clínico, baseado na localização das lesões (região posterior da boca), idade do paciente e sintomas associados.\")\n",
    "                  print(\"     - 💊 **Conduta:** Doença autolimitante. Tratamento de suporte com analgésicos, antitérmicos e hidratação.\\n\")\n",
    "              else:\n",
    "                  print(\"\\n➡️ Diagnóstico provável: GENGIVOESTOMATITE HERPÉTICA AGUDA (GEHA)\")\n",
    "                  print(\"     - 🦠 **Definição e Etiologia:** Infecção primária pelo vírus herpes simples (HSV), geralmente em crianças, mas pode ocorrer em adultos. A infecção primária pode ser assintomática ou se manifestar como GEHA.\")\n",
    "                  print(\"     - 🔴 **Aspecto Clínico:** Sintomas sistêmicos (febre, cefaleia, linfadenopatia, dor de garganta). Lesões vesiculares puntiformes que se rompem e formam úlceras. Gengiva com áreas erosivas e edemaciadas. Lesões em pele perioral podem ocorrer. Auto-inoculação pode levar a lesões em dedos e olhos.\")\n",
    "                  print(\"     - 🔬 **Como Estabelecer o Diagnóstico:** Clínico, baseado no quadro clínico e na idade do paciente. Exames laboratoriais (cultura viral, PCR, sorologia) podem confirmar o diagnóstico, mas nem sempre são necessários.\")\n",
    "                  print(\"     - 💊 **Conduta:** Tratamento sintomático com analgésicos, antipiréticos, hidratação e repouso. Higiene bucal com gaze embebida em soro fisiológico. Orientar sobre a natureza contagiosa e a importância de evitar a auto-inoculação. Antivirais (ex.: aciclovir) podem ser usados em casos mais graves ou em pacientes imunocomprometidos.\\n\")\n",
    "\n",
    "          else:\n",
    "              print(\"\\n➡️ Diagnóstico provável: SÍFILIS PRIMÁRIA\")\n",
    "              print(\"     - 🦠 **Definição e Etiologia:** Infecção sexualmente transmissível causada pela bactéria *Treponema pallidum*. Apresenta três estágios, sendo os dois primeiros os mais contagiosos.\")\n",
    "              print(\"     - 🔴 **Aspecto Clínico:** Cancro sifilítico: úlcera solitária, indolor, no local de inoculação da bactéria. Em boca, o lábio é o local mais comum, seguido por palato, gengiva e amígdalas. Linfadenopatia bilateral. Pode regredir espontaneamente em 3-8 semanas, progredindo para sífilis secundária.\")\n",
    "              print(\"     - 🔬 **Como Estabelecer o Diagnóstico:** Suspeita clínica (úlcera indolor, linfadenopatia, fatores de risco para ISTs). Exames sorológicos confirmatórios: VDRL e FTA-ABS. Biópsia não é conclusiva, mas ajuda a descartar outras hipóteses.\")\n",
    "              print(\"     - 💊 **Conduta:** Tratamento com penicilina. Rastreamento e tratamento de parceiros sexuais. Solicitar exame para HIV, pois a transmissão é semelhante. Acompanhamento sorológico para avaliar a resposta ao tratamento.\\n\")\n",
    "\n",
    "# Chamando a função para iniciar o diagnóstico\n",
    "diagnostico_lesoes_ulceradas_agudas()"
   ]
  }
 ],
 "metadata": {
  "colab": {
   "authorship_tag": "ABX9TyMOYMyWW9DfiUvvUAqba08M",
   "provenance": []
  },
  "kernelspec": {
   "display_name": "Python 3",
   "name": "python3"
  },
  "language_info": {
   "name": "python"
  }
 },
 "nbformat": 4,
 "nbformat_minor": 0
}
